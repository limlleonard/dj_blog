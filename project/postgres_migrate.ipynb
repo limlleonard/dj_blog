{
 "cells": [
  {
   "cell_type": "code",
   "execution_count": null,
   "id": "d70363bc",
   "metadata": {},
   "outputs": [
    {
     "data": {
      "text/plain": [
       "True"
      ]
     },
     "execution_count": 1,
     "metadata": {},
     "output_type": "execute_result"
    }
   ],
   "source": [
    "import psycopg2\n",
    "import os\n",
    "import django"
   ]
  },
  {
   "cell_type": "markdown",
   "id": "5f37bb9a",
   "metadata": {},
   "source": [
    "## Migrate old Flask blog DB"
   ]
  },
  {
   "cell_type": "code",
   "execution_count": null,
   "id": "d6bbd703",
   "metadata": {},
   "outputs": [
    {
     "name": "stdout",
     "output_type": "stream",
     "text": [
      "(2, 'test4', datetime.datetime(2024, 10, 31, 14, 16, 13, 191352), 'add this post from web, which is deployed on render', 1, 'default')\n",
      "(4, 'test6', datetime.datetime(2024, 11, 1, 10, 27, 24, 860906), 'Post as Leonard', 2, 'default')\n",
      "(5, 'Developer', datetime.datetime(2024, 11, 4, 12, 6, 51, 727483), 'I have always liked building things. Flask makes it possible to build a interactive website with my first programming language python. Meanwhile it would be a nice place for someone introverse like me to post some ideas about different topics.', 2, 'default')\n",
      "(10, 'test1', datetime.datetime(2024, 11, 8, 16, 45, 23, 80999), 'test1', 1, 'tech')\n",
      "(11, 'test', datetime.datetime(2024, 11, 8, 16, 45, 59, 424530), 'test', 1, 'politics')\n",
      "(12, 'X', datetime.datetime(2024, 11, 27, 14, 5, 36, 857827), 'What is the common part between Elon Musk and me? We both have our own blog :)', 2, 'personal')\n",
      "(13, 'Silvester', datetime.datetime(2025, 1, 1, 20, 33, 55, 474895), 'Silvester in Berlin ist hässlich, wie eine Purge, wenn du den Film schon mal geschaut hast. Nicht die Stadt unschön ist, sondern die dunkle Seite der Menschheit wird gezeigt. Manche Menschen schießen Feuerwerk auf Gebäude, Menschengruppen oder sogar Polizei. Auch die Mehrheit werfen die Flasche überall um. Im Film ist die kriminelle Quote wegen des Purge Tages niedrig. In der Realität bin ich nicht optimistisch.', 2, 'personal')\n"
     ]
    }
   ],
   "source": [
    "uri1=\"\"\n",
    "flask_db_conn = psycopg2.connect(uri1)\n",
    "flask_cursor = flask_db_conn.cursor()\n",
    "\n",
    "flask_cursor.execute('SELECT id, title, date_posted, content, user_id, topic FROM post')\n",
    "posts = flask_cursor.fetchall()"
   ]
  },
  {
   "cell_type": "code",
   "execution_count": null,
   "id": "9ee7e8ca",
   "metadata": {},
   "outputs": [],
   "source": [
    "os.environ.setdefault('DJANGO_SETTINGS_MODULE', \"project.settings\")\n",
    "django.setup()\n",
    "from django.contrib.auth.models import User\n",
    "from app.models import Post"
   ]
  },
  {
   "cell_type": "code",
   "execution_count": null,
   "id": "fc20ac67",
   "metadata": {},
   "outputs": [],
   "source": [
    "from asgiref.sync import sync_to_async\n",
    "\n",
    "@sync_to_async\n",
    "def get_migrator_user():\n",
    "    return User.objects.get(username='migrator')\n",
    "\n",
    "migrator_user = await get_migrator_user()\n",
    "\n",
    "app_posts = []\n",
    "for row in posts:\n",
    "    app_post = Post(\n",
    "        title=row[1],\n",
    "        content=row[3],\n",
    "        date_posted=row[2],\n",
    "        author=migrator_user,\n",
    "        topic=row[5]\n",
    "    )\n",
    "    app_posts.append(app_post)\n",
    "    \n",
    "@sync_to_async\n",
    "def save_posts(posts):\n",
    "    Post.objects.bulk_create(posts)\n",
    "\n",
    "await save_posts(app_posts)"
   ]
  },
  {
   "cell_type": "code",
   "execution_count": 11,
   "id": "7dd42388",
   "metadata": {},
   "outputs": [],
   "source": [
    "dct_topic = {\n",
    "    'politics': 'Politics',\n",
    "    'tech': 'Technology',\n",
    "    'default': 'Default',\n",
    "    'personal': 'Daily'\n",
    "}\n",
    "@sync_to_async\n",
    "def rename_topics(old_topic, new_topic):\n",
    "    Post.objects.filter(topic=old_topic).update(topic=new_topic)\n",
    "    \n",
    "for old_topic, new_topic in dct_topic.items():\n",
    "    await rename_topics(old_topic, new_topic)"
   ]
  },
  {
   "cell_type": "code",
   "execution_count": 12,
   "id": "f07e07ee",
   "metadata": {},
   "outputs": [],
   "source": [
    "# Close connection\n",
    "flask_cursor.close()\n",
    "flask_db_conn.close()"
   ]
  },
  {
   "cell_type": "markdown",
   "id": "8c7c75b3",
   "metadata": {},
   "source": [
    "## Migrate postgresql to sqlite"
   ]
  },
  {
   "cell_type": "code",
   "execution_count": null,
   "id": "09dfc775",
   "metadata": {},
   "outputs": [],
   "source": [
    "python manage.py dumpdata auth.user --output=users.json\n",
    "python manage.py dumpdata app.Post --output=posts.json\n",
    "# change setting DB\n",
    "python manage.py migrate\n",
    "python manage.py loaddata users.json\n",
    "python manage.py loaddata posts.json\n",
    "\n"
   ]
  }
 ],
 "metadata": {
  "kernelspec": {
   "display_name": "v_postgres",
   "language": "python",
   "name": "python3"
  },
  "language_info": {
   "codemirror_mode": {
    "name": "ipython",
    "version": 3
   },
   "file_extension": ".py",
   "mimetype": "text/x-python",
   "name": "python",
   "nbconvert_exporter": "python",
   "pygments_lexer": "ipython3",
   "version": "3.12.3"
  }
 },
 "nbformat": 4,
 "nbformat_minor": 5
}
